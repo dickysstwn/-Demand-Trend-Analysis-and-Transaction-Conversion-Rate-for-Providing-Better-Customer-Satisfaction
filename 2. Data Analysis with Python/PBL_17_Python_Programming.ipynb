{
  "nbformat": 4,
  "nbformat_minor": 0,
  "metadata": {
    "colab": {
      "provenance": []
    },
    "kernelspec": {
      "name": "python3",
      "display_name": "Python 3"
    },
    "language_info": {
      "name": "python"
    }
  },
  "cells": [
    {
      "cell_type": "markdown",
      "source": [
        "#Data Preperation"
      ],
      "metadata": {
        "id": "yfMKBSL0CRIk"
      }
    },
    {
      "cell_type": "code",
      "execution_count": null,
      "metadata": {
        "colab": {
          "base_uri": "https://localhost:8080/"
        },
        "id": "w_5zXBIExTPy",
        "outputId": "96b82547-0252-450b-e0e3-f493ecb1e10c"
      },
      "outputs": [
        {
          "output_type": "stream",
          "name": "stdout",
          "text": [
            "Mounted at /content/drive\n"
          ]
        }
      ],
      "source": [
        "import pandas as pd\n",
        "import numpy as np\n",
        "import os\n",
        "from google.cloud import bigquery\n",
        "from google.colab import auth\n",
        "from google.colab import drive\n",
        "from google.colab import data_table \n",
        "drive.mount('/content/drive')"
      ]
    },
    {
      "cell_type": "code",
      "source": [
        "import matplotlib.pyplot as plt\n",
        "import seaborn as sns"
      ],
      "metadata": {
        "id": "2M1nxtE6z5XL"
      },
      "execution_count": null,
      "outputs": []
    },
    {
      "cell_type": "code",
      "source": [
        "os.environ[\"GOOGLE_APPLICATION_CREDENTIALS\"]=\"/content/drive/My Drive/private-key.json\""
      ],
      "metadata": {
        "id": "kbeDask0xZeB"
      },
      "execution_count": null,
      "outputs": []
    },
    {
      "cell_type": "code",
      "source": [
        "bqclient = bigquery.Client()"
      ],
      "metadata": {
        "id": "W-3Pzh4qxbQ7"
      },
      "execution_count": null,
      "outputs": []
    },
    {
      "cell_type": "code",
      "source": [
        "X1 = \"\"\" select *\n",
        "from bitlabs-dab.G_CID_01.ralali_transactions_Q1_2018\n",
        "UNION all\n",
        "select * \n",
        "from bitlabs-dab.G_CID_01.ralali_transactions_Q1_2019\n",
        "UNION all\n",
        "select * \n",
        "from bitlabs-dab.G_CID_01.ralali_transactions_Q1_2020\n",
        "\n",
        "\"\"\""
      ],
      "metadata": {
        "id": "MrGuGv0fxefk"
      },
      "execution_count": null,
      "outputs": []
    },
    {
      "cell_type": "code",
      "source": [
        "X1=(\n",
        "    bqclient.query(X1)\n",
        "    .result()\n",
        "    .to_dataframe(\n",
        "        \n",
        "    )\n",
        ")"
      ],
      "metadata": {
        "id": "XOhbXX8Oxp5c"
      },
      "execution_count": null,
      "outputs": []
    },
    {
      "cell_type": "markdown",
      "source": [
        "#Data Information"
      ],
      "metadata": {
        "id": "OfU7GWP0_Mgi"
      }
    },
    {
      "cell_type": "code",
      "source": [
        "X1"
      ],
      "metadata": {
        "colab": {
          "base_uri": "https://localhost:8080/",
          "height": 1000
        },
        "id": "4OsaT-UB0blO",
        "outputId": "9c7d95d0-18ac-4747-82d3-ae58a7ea15d8"
      },
      "execution_count": null,
      "outputs": [
        {
          "output_type": "execute_result",
          "data": {
            "text/plain": [
              "                                                order_id  \\\n",
              "0      RY8M4nM5qeRgOCHUc4sPamPxJ98EpP52G2I8yW2+jz9/LB...   \n",
              "1      1z0Vi8I4h3P6gbhqKjTUhDXNMZpQf0MIs3A9hY2S/FoF70...   \n",
              "2      RA3C3EZUWnZA1gQwLsM4MMA2QBsdniTTDOXP3GZvv/b0h2...   \n",
              "3      904UDskup/Qtr2+ZAc7Xqiz/CfG2Q8uz2r8wSAsQRE69cR...   \n",
              "4      7afmOZCVElvGcZerV4+2hiGtWn6yCME7mJTqk2Yl6i0dLh...   \n",
              "...                                                  ...   \n",
              "56994  hMNVJu7pe/56r9IMer9EOhMaspNepjbOjY+yzwuxhbyMeX...   \n",
              "56995  Kyr1swAjeR37xIsuF5FDUbp7QtkHWpbNByLa/Smk4It3Jv...   \n",
              "56996  vUVI5D2/Fkw+uJCP/prvGKQR7pS6ysgu+YBpy7XKD0LDfI...   \n",
              "56997  9l6zCubPWS1YrZp00WRBFOxRqWaqOid00L+C28qt8PhjEj...   \n",
              "56998  0b8ttj22Y4JOZSMxrgXb0E4pd5MD7e+Pmy8Zk5rrK5NssN...   \n",
              "\n",
              "                                          oder_detail_id  \\\n",
              "0      zZJkAkypx8i0i1DTYSrJY28m2xPZAmKPVyIZJSG5X7XgrL...   \n",
              "1      ivJZVdevWAEs+NthMzw7IBsuio06KtahA5XyYCfG9bSkJk...   \n",
              "2      IWlaFAf9A/BLxpWRtjunWMzgtEPaw5wFwUpE4LTA2D1yEg...   \n",
              "3      Me2FUatJl4brnwaQhpiWspmHUkg6c6+f+i1X0wY4GiPOUc...   \n",
              "4      FRK/oWXw5qgQ25muCoiH/PZgM+mSRGHAnw9WIb9QK/l9Pe...   \n",
              "...                                                  ...   \n",
              "56994  ubvMK0JvvfzZqdH7NPiZDJfMtaWZF0JMKJ0flm/n/BrYXj...   \n",
              "56995  GEn8zsO7m+zvxgj7NUqs9HBwHFOfpA+YY1sbpRq+r5X12f...   \n",
              "56996  wgTA6Nj4X0Sg+468a/zs6g41zZhMOzhScQA4z9kkRSJ8Mt...   \n",
              "56997  r3AHlSaQGMTk5zYJsU95OiO4BpjpQqupMgsDqux6QOULFU...   \n",
              "56998  K0G2ddYGBXc+y80wtiUDrEvnKsYgwjntEVvmtOvFCzwYkN...   \n",
              "\n",
              "                 order_datetime  \\\n",
              "0     2019-03-01 13:02:58+00:00   \n",
              "1     2019-02-27 12:40:05+00:00   \n",
              "2     2019-03-14 16:32:22+00:00   \n",
              "3     2019-03-10 17:49:37+00:00   \n",
              "4     2019-03-09 15:28:48+00:00   \n",
              "...                         ...   \n",
              "56994 2020-03-17 08:11:07+00:00   \n",
              "56995 2020-01-28 00:57:59+00:00   \n",
              "56996 2020-01-28 00:51:48+00:00   \n",
              "56997 2020-03-19 21:44:49+00:00   \n",
              "56998 2020-01-02 14:18:46+00:00   \n",
              "\n",
              "                                                 item_id  \\\n",
              "0      D8g+Azrp4hM8QbpjOMQEYKCd+Tl/oune59Q9Jfb2ywiKEl...   \n",
              "1      D8g+Azrp4hM8QbpjOMQEYKCd+Tl/oune59Q9Jfb2ywiKEl...   \n",
              "2      gAFJDjxHX2CHxEYKGXX12Sn0uRqiKSAji9msNSWqk8DcZp...   \n",
              "3      gAFJDjxHX2CHxEYKGXX12Sn0uRqiKSAji9msNSWqk8DcZp...   \n",
              "4      gAFJDjxHX2CHxEYKGXX12Sn0uRqiKSAji9msNSWqk8DcZp...   \n",
              "...                                                  ...   \n",
              "56994  qmY+fo95UnBw5KEdLm+TUDGqv9YHywZCrCDPqFHXNMmO3y...   \n",
              "56995  qmY+fo95UnBw5KEdLm+TUDGqv9YHywZCrCDPqFHXNMmO3y...   \n",
              "56996  qmY+fo95UnBw5KEdLm+TUDGqv9YHywZCrCDPqFHXNMmO3y...   \n",
              "56997  e8ZS0UrAzdLUpfXhh33Xx3UUWULCWDHNWMe0h04Qi6SBzT...   \n",
              "56998  Y4yb++f39blRbkJpr0fnt0U4nguBFWqMTXhcNAH73+PqJe...   \n",
              "\n",
              "                                               item_name  \\\n",
              "0      Pembelian Paket Velg atau Ban di Toko-Toko RAL500   \n",
              "1      Pembelian Paket Velg atau Ban di Toko-Toko RAL500   \n",
              "2      Pembelian Paket Velg atau Ban di Toko-Toko RAL600   \n",
              "3      Pembelian Paket Velg atau Ban di Toko-Toko RAL600   \n",
              "4      Pembelian Paket Velg atau Ban di Toko-Toko RAL600   \n",
              "...                                                  ...   \n",
              "56994                    LENCANA MERAH Tepung Terigu 1kg   \n",
              "56995                    LENCANA MERAH Tepung Terigu 1kg   \n",
              "56996                    LENCANA MERAH Tepung Terigu 1kg   \n",
              "56997               DJI SAM SOE 234 Magnum Mild Blue 16s   \n",
              "56998                                   POPSO Bakso  Cup   \n",
              "\n",
              "                          cat_name     price  product_quantity  \\\n",
              "0      Automotive & Transportation  510000.0                11   \n",
              "1      Automotive & Transportation  510000.0                11   \n",
              "2      Automotive & Transportation  610000.0                11   \n",
              "3      Automotive & Transportation  610000.0                11   \n",
              "4      Automotive & Transportation  610000.0                11   \n",
              "...                            ...       ...               ...   \n",
              "56994           Agriculture & Food   20000.0                11   \n",
              "56995           Agriculture & Food   20000.0                11   \n",
              "56996           Agriculture & Food   20000.0                11   \n",
              "56997           Agriculture & Food   29000.0                11   \n",
              "56998           Agriculture & Food   32000.0                25   \n",
              "\n",
              "       percentage_commission     payment_method  ...  \\\n",
              "0                        2.0                BCA  ...   \n",
              "1                        2.0  BCA Bank Transfer  ...   \n",
              "2                        2.0  BRI Bank Transfer  ...   \n",
              "3                        2.0                BNI  ...   \n",
              "4                        2.0            Mandiri  ...   \n",
              "...                      ...                ...  ...   \n",
              "56994                    3.0      Ralali Wallet  ...   \n",
              "56995                    3.0      Ralali Wallet  ...   \n",
              "56996                    3.0      Ralali Wallet  ...   \n",
              "56997                    3.0      Ralali Wallet  ...   \n",
              "56998                    2.5        Credit Card  ...   \n",
              "\n",
              "             delivered_datetime         received_datetime  \\\n",
              "0     2019-03-01 17:56:45+00:00 2019-03-05 16:49:12+00:00   \n",
              "1     2019-02-27 13:52:43+00:00 2019-03-05 16:29:35+00:00   \n",
              "2     2019-03-15 09:33:31+00:00 2019-03-19 17:21:27+00:00   \n",
              "3     2019-03-11 13:24:56+00:00 2019-03-19 11:37:47+00:00   \n",
              "4     2019-03-10 11:07:18+00:00 2019-03-12 11:40:35+00:00   \n",
              "...                         ...                       ...   \n",
              "56994 2020-03-17 08:11:52+00:00 2020-03-17 08:12:00+00:00   \n",
              "56995 2020-01-28 01:21:04+00:00 2020-02-11 00:38:55+00:00   \n",
              "56996 2020-01-28 01:21:13+00:00 2020-02-11 00:37:00+00:00   \n",
              "56997 2020-03-19 22:06:53+00:00 2020-03-19 22:07:14+00:00   \n",
              "56998                       NaT                       NaT   \n",
              "\n",
              "               settled_datetime  \\\n",
              "0     2019-03-06 18:12:04+00:00   \n",
              "1     2019-03-06 18:11:40+00:00   \n",
              "2     2019-03-20 14:39:50+00:00   \n",
              "3     2019-03-20 14:38:22+00:00   \n",
              "4     2019-03-14 16:13:20+00:00   \n",
              "...                         ...   \n",
              "56994 2020-03-18 19:16:18+00:00   \n",
              "56995 2020-02-12 06:22:14+00:00   \n",
              "56996 2020-02-12 06:22:14+00:00   \n",
              "56997 2020-03-20 15:17:44+00:00   \n",
              "56998                       NaT   \n",
              "\n",
              "                                                buyer_id  \\\n",
              "0      fmhD1hoON1cedpTYrvr+WpSIcxJQQsGUL1mL+zzGpii+YE...   \n",
              "1      QK1yYtYq5QUYTx9QatNTCVQ3JUIhogvrA1nC4xJ1pN1zeL...   \n",
              "2      Zi1/m9Ys0/krL0vNEUmVngDxf3/ZpujYmyHVT0Hmu5c5Wn...   \n",
              "3      58EDnaMGMKV78JVcinDWPBf5aWCT6iTon2z1C7oMzL59Dk...   \n",
              "4      wSDCMeKv+8oVwoLeMfiYec2xa0lM0Xnnsne8/CwrUMZ2OX...   \n",
              "...                                                  ...   \n",
              "56994  XS4ZXBjDD6JvT8hoJkwLFFWDEzJRDxfjXEngv1L5OstM7e...   \n",
              "56995  yY7Y1kBC0st9xepDZscxyihC+92wnAgt7Su6zegHLKgmRs...   \n",
              "56996  ng21FCXnAWPBVkw3e+YokohKEiKwUeMP72oa+NK03SZkpO...   \n",
              "56997  t+v4QgAgyKqZXSdxZgvhav7+7rtoGQHNRc5NXw4WYklfLA...   \n",
              "56998  vBQDuU8e5XvuPIXHvD7m4dOdZjSCdIBzWhYjRLeVYkahUN...   \n",
              "\n",
              "                                               seller_id order_source  \\\n",
              "0      +MNZs9ZjeacmfCMNA3HrU8ngXkEBQkh6HZ5fp3yZD6xnTg...      website   \n",
              "1      +MNZs9ZjeacmfCMNA3HrU8ngXkEBQkh6HZ5fp3yZD6xnTg...      Android   \n",
              "2      +MNZs9ZjeacmfCMNA3HrU8ngXkEBQkh6HZ5fp3yZD6xnTg...      website   \n",
              "3      +MNZs9ZjeacmfCMNA3HrU8ngXkEBQkh6HZ5fp3yZD6xnTg...      website   \n",
              "4      +MNZs9ZjeacmfCMNA3HrU8ngXkEBQkh6HZ5fp3yZD6xnTg...      Android   \n",
              "...                                                  ...          ...   \n",
              "56994  zur/s7B3E92bxS8FkBL9Dx6HA7lKKWGGzSq1qu4HPScnu9...      Android   \n",
              "56995  zur/s7B3E92bxS8FkBL9Dx6HA7lKKWGGzSq1qu4HPScnu9...      Android   \n",
              "56996  zur/s7B3E92bxS8FkBL9Dx6HA7lKKWGGzSq1qu4HPScnu9...      Android   \n",
              "56997  zur/s7B3E92bxS8FkBL9Dx6HA7lKKWGGzSq1qu4HPScnu9...      Android   \n",
              "56998  zx1OMM/JHQ1SNnRi9hsIvVkI1E03RE6dcgWrx9yKbVOCGR...      website   \n",
              "\n",
              "      buyer_province_name    buyer_city_name          logistic_name  \\\n",
              "0              Jawa Timur           Surabaya  Free Ongkir Nusantara   \n",
              "1              Jawa Barat             Bekasi  Free Ongkir Nusantara   \n",
              "2        Sumatera Selatan          Palembang  Free Ongkir Nusantara   \n",
              "3              Jawa Barat             Bekasi  Free Ongkir Nusantara   \n",
              "4          Sumatera Utara              Medan  Free Ongkir Nusantara   \n",
              "...                   ...                ...                    ...   \n",
              "56994      Kepulauan Riau          Pekanbaru      Free Ongkir Lokal   \n",
              "56995                Riau          Pekanbaru      Free Ongkir Lokal   \n",
              "56996                Riau          Pekanbaru      Free Ongkir Lokal   \n",
              "56997      Kepulauan Riau          Pekanbaru      Free Ongkir Lokal   \n",
              "56998              Banten  Tangerang Selatan           Ralali Kargo   \n",
              "\n",
              "              Duration  \n",
              "0      5 days 05:09:06  \n",
              "1      7 days 05:31:35  \n",
              "2      5 days 22:07:28  \n",
              "3      9 days 20:48:45  \n",
              "4      5 days 00:44:32  \n",
              "...                ...  \n",
              "56994  1 days 11:05:11  \n",
              "56995 15 days 05:24:15  \n",
              "56996 15 days 05:30:26  \n",
              "56997  0 days 17:32:55  \n",
              "56998              NaT  \n",
              "\n",
              "[56999 rows x 22 columns]"
            ],
            "text/html": [
              "\n",
              "  <div id=\"df-4cd9f665-3b8f-4f6d-ad57-7b72a81aa1d3\">\n",
              "    <div class=\"colab-df-container\">\n",
              "      <div>\n",
              "<style scoped>\n",
              "    .dataframe tbody tr th:only-of-type {\n",
              "        vertical-align: middle;\n",
              "    }\n",
              "\n",
              "    .dataframe tbody tr th {\n",
              "        vertical-align: top;\n",
              "    }\n",
              "\n",
              "    .dataframe thead th {\n",
              "        text-align: right;\n",
              "    }\n",
              "</style>\n",
              "<table border=\"1\" class=\"dataframe\">\n",
              "  <thead>\n",
              "    <tr style=\"text-align: right;\">\n",
              "      <th></th>\n",
              "      <th>order_id</th>\n",
              "      <th>oder_detail_id</th>\n",
              "      <th>order_datetime</th>\n",
              "      <th>item_id</th>\n",
              "      <th>item_name</th>\n",
              "      <th>cat_name</th>\n",
              "      <th>price</th>\n",
              "      <th>product_quantity</th>\n",
              "      <th>percentage_commission</th>\n",
              "      <th>payment_method</th>\n",
              "      <th>...</th>\n",
              "      <th>delivered_datetime</th>\n",
              "      <th>received_datetime</th>\n",
              "      <th>settled_datetime</th>\n",
              "      <th>buyer_id</th>\n",
              "      <th>seller_id</th>\n",
              "      <th>order_source</th>\n",
              "      <th>buyer_province_name</th>\n",
              "      <th>buyer_city_name</th>\n",
              "      <th>logistic_name</th>\n",
              "      <th>Duration</th>\n",
              "    </tr>\n",
              "  </thead>\n",
              "  <tbody>\n",
              "    <tr>\n",
              "      <th>0</th>\n",
              "      <td>RY8M4nM5qeRgOCHUc4sPamPxJ98EpP52G2I8yW2+jz9/LB...</td>\n",
              "      <td>zZJkAkypx8i0i1DTYSrJY28m2xPZAmKPVyIZJSG5X7XgrL...</td>\n",
              "      <td>2019-03-01 13:02:58+00:00</td>\n",
              "      <td>D8g+Azrp4hM8QbpjOMQEYKCd+Tl/oune59Q9Jfb2ywiKEl...</td>\n",
              "      <td>Pembelian Paket Velg atau Ban di Toko-Toko RAL500</td>\n",
              "      <td>Automotive &amp; Transportation</td>\n",
              "      <td>510000.0</td>\n",
              "      <td>11</td>\n",
              "      <td>2.0</td>\n",
              "      <td>BCA</td>\n",
              "      <td>...</td>\n",
              "      <td>2019-03-01 17:56:45+00:00</td>\n",
              "      <td>2019-03-05 16:49:12+00:00</td>\n",
              "      <td>2019-03-06 18:12:04+00:00</td>\n",
              "      <td>fmhD1hoON1cedpTYrvr+WpSIcxJQQsGUL1mL+zzGpii+YE...</td>\n",
              "      <td>+MNZs9ZjeacmfCMNA3HrU8ngXkEBQkh6HZ5fp3yZD6xnTg...</td>\n",
              "      <td>website</td>\n",
              "      <td>Jawa Timur</td>\n",
              "      <td>Surabaya</td>\n",
              "      <td>Free Ongkir Nusantara</td>\n",
              "      <td>5 days 05:09:06</td>\n",
              "    </tr>\n",
              "    <tr>\n",
              "      <th>1</th>\n",
              "      <td>1z0Vi8I4h3P6gbhqKjTUhDXNMZpQf0MIs3A9hY2S/FoF70...</td>\n",
              "      <td>ivJZVdevWAEs+NthMzw7IBsuio06KtahA5XyYCfG9bSkJk...</td>\n",
              "      <td>2019-02-27 12:40:05+00:00</td>\n",
              "      <td>D8g+Azrp4hM8QbpjOMQEYKCd+Tl/oune59Q9Jfb2ywiKEl...</td>\n",
              "      <td>Pembelian Paket Velg atau Ban di Toko-Toko RAL500</td>\n",
              "      <td>Automotive &amp; Transportation</td>\n",
              "      <td>510000.0</td>\n",
              "      <td>11</td>\n",
              "      <td>2.0</td>\n",
              "      <td>BCA Bank Transfer</td>\n",
              "      <td>...</td>\n",
              "      <td>2019-02-27 13:52:43+00:00</td>\n",
              "      <td>2019-03-05 16:29:35+00:00</td>\n",
              "      <td>2019-03-06 18:11:40+00:00</td>\n",
              "      <td>QK1yYtYq5QUYTx9QatNTCVQ3JUIhogvrA1nC4xJ1pN1zeL...</td>\n",
              "      <td>+MNZs9ZjeacmfCMNA3HrU8ngXkEBQkh6HZ5fp3yZD6xnTg...</td>\n",
              "      <td>Android</td>\n",
              "      <td>Jawa Barat</td>\n",
              "      <td>Bekasi</td>\n",
              "      <td>Free Ongkir Nusantara</td>\n",
              "      <td>7 days 05:31:35</td>\n",
              "    </tr>\n",
              "    <tr>\n",
              "      <th>2</th>\n",
              "      <td>RA3C3EZUWnZA1gQwLsM4MMA2QBsdniTTDOXP3GZvv/b0h2...</td>\n",
              "      <td>IWlaFAf9A/BLxpWRtjunWMzgtEPaw5wFwUpE4LTA2D1yEg...</td>\n",
              "      <td>2019-03-14 16:32:22+00:00</td>\n",
              "      <td>gAFJDjxHX2CHxEYKGXX12Sn0uRqiKSAji9msNSWqk8DcZp...</td>\n",
              "      <td>Pembelian Paket Velg atau Ban di Toko-Toko RAL600</td>\n",
              "      <td>Automotive &amp; Transportation</td>\n",
              "      <td>610000.0</td>\n",
              "      <td>11</td>\n",
              "      <td>2.0</td>\n",
              "      <td>BRI Bank Transfer</td>\n",
              "      <td>...</td>\n",
              "      <td>2019-03-15 09:33:31+00:00</td>\n",
              "      <td>2019-03-19 17:21:27+00:00</td>\n",
              "      <td>2019-03-20 14:39:50+00:00</td>\n",
              "      <td>Zi1/m9Ys0/krL0vNEUmVngDxf3/ZpujYmyHVT0Hmu5c5Wn...</td>\n",
              "      <td>+MNZs9ZjeacmfCMNA3HrU8ngXkEBQkh6HZ5fp3yZD6xnTg...</td>\n",
              "      <td>website</td>\n",
              "      <td>Sumatera Selatan</td>\n",
              "      <td>Palembang</td>\n",
              "      <td>Free Ongkir Nusantara</td>\n",
              "      <td>5 days 22:07:28</td>\n",
              "    </tr>\n",
              "    <tr>\n",
              "      <th>3</th>\n",
              "      <td>904UDskup/Qtr2+ZAc7Xqiz/CfG2Q8uz2r8wSAsQRE69cR...</td>\n",
              "      <td>Me2FUatJl4brnwaQhpiWspmHUkg6c6+f+i1X0wY4GiPOUc...</td>\n",
              "      <td>2019-03-10 17:49:37+00:00</td>\n",
              "      <td>gAFJDjxHX2CHxEYKGXX12Sn0uRqiKSAji9msNSWqk8DcZp...</td>\n",
              "      <td>Pembelian Paket Velg atau Ban di Toko-Toko RAL600</td>\n",
              "      <td>Automotive &amp; Transportation</td>\n",
              "      <td>610000.0</td>\n",
              "      <td>11</td>\n",
              "      <td>2.0</td>\n",
              "      <td>BNI</td>\n",
              "      <td>...</td>\n",
              "      <td>2019-03-11 13:24:56+00:00</td>\n",
              "      <td>2019-03-19 11:37:47+00:00</td>\n",
              "      <td>2019-03-20 14:38:22+00:00</td>\n",
              "      <td>58EDnaMGMKV78JVcinDWPBf5aWCT6iTon2z1C7oMzL59Dk...</td>\n",
              "      <td>+MNZs9ZjeacmfCMNA3HrU8ngXkEBQkh6HZ5fp3yZD6xnTg...</td>\n",
              "      <td>website</td>\n",
              "      <td>Jawa Barat</td>\n",
              "      <td>Bekasi</td>\n",
              "      <td>Free Ongkir Nusantara</td>\n",
              "      <td>9 days 20:48:45</td>\n",
              "    </tr>\n",
              "    <tr>\n",
              "      <th>4</th>\n",
              "      <td>7afmOZCVElvGcZerV4+2hiGtWn6yCME7mJTqk2Yl6i0dLh...</td>\n",
              "      <td>FRK/oWXw5qgQ25muCoiH/PZgM+mSRGHAnw9WIb9QK/l9Pe...</td>\n",
              "      <td>2019-03-09 15:28:48+00:00</td>\n",
              "      <td>gAFJDjxHX2CHxEYKGXX12Sn0uRqiKSAji9msNSWqk8DcZp...</td>\n",
              "      <td>Pembelian Paket Velg atau Ban di Toko-Toko RAL600</td>\n",
              "      <td>Automotive &amp; Transportation</td>\n",
              "      <td>610000.0</td>\n",
              "      <td>11</td>\n",
              "      <td>2.0</td>\n",
              "      <td>Mandiri</td>\n",
              "      <td>...</td>\n",
              "      <td>2019-03-10 11:07:18+00:00</td>\n",
              "      <td>2019-03-12 11:40:35+00:00</td>\n",
              "      <td>2019-03-14 16:13:20+00:00</td>\n",
              "      <td>wSDCMeKv+8oVwoLeMfiYec2xa0lM0Xnnsne8/CwrUMZ2OX...</td>\n",
              "      <td>+MNZs9ZjeacmfCMNA3HrU8ngXkEBQkh6HZ5fp3yZD6xnTg...</td>\n",
              "      <td>Android</td>\n",
              "      <td>Sumatera Utara</td>\n",
              "      <td>Medan</td>\n",
              "      <td>Free Ongkir Nusantara</td>\n",
              "      <td>5 days 00:44:32</td>\n",
              "    </tr>\n",
              "    <tr>\n",
              "      <th>...</th>\n",
              "      <td>...</td>\n",
              "      <td>...</td>\n",
              "      <td>...</td>\n",
              "      <td>...</td>\n",
              "      <td>...</td>\n",
              "      <td>...</td>\n",
              "      <td>...</td>\n",
              "      <td>...</td>\n",
              "      <td>...</td>\n",
              "      <td>...</td>\n",
              "      <td>...</td>\n",
              "      <td>...</td>\n",
              "      <td>...</td>\n",
              "      <td>...</td>\n",
              "      <td>...</td>\n",
              "      <td>...</td>\n",
              "      <td>...</td>\n",
              "      <td>...</td>\n",
              "      <td>...</td>\n",
              "      <td>...</td>\n",
              "      <td>...</td>\n",
              "    </tr>\n",
              "    <tr>\n",
              "      <th>56994</th>\n",
              "      <td>hMNVJu7pe/56r9IMer9EOhMaspNepjbOjY+yzwuxhbyMeX...</td>\n",
              "      <td>ubvMK0JvvfzZqdH7NPiZDJfMtaWZF0JMKJ0flm/n/BrYXj...</td>\n",
              "      <td>2020-03-17 08:11:07+00:00</td>\n",
              "      <td>qmY+fo95UnBw5KEdLm+TUDGqv9YHywZCrCDPqFHXNMmO3y...</td>\n",
              "      <td>LENCANA MERAH Tepung Terigu 1kg</td>\n",
              "      <td>Agriculture &amp; Food</td>\n",
              "      <td>20000.0</td>\n",
              "      <td>11</td>\n",
              "      <td>3.0</td>\n",
              "      <td>Ralali Wallet</td>\n",
              "      <td>...</td>\n",
              "      <td>2020-03-17 08:11:52+00:00</td>\n",
              "      <td>2020-03-17 08:12:00+00:00</td>\n",
              "      <td>2020-03-18 19:16:18+00:00</td>\n",
              "      <td>XS4ZXBjDD6JvT8hoJkwLFFWDEzJRDxfjXEngv1L5OstM7e...</td>\n",
              "      <td>zur/s7B3E92bxS8FkBL9Dx6HA7lKKWGGzSq1qu4HPScnu9...</td>\n",
              "      <td>Android</td>\n",
              "      <td>Kepulauan Riau</td>\n",
              "      <td>Pekanbaru</td>\n",
              "      <td>Free Ongkir Lokal</td>\n",
              "      <td>1 days 11:05:11</td>\n",
              "    </tr>\n",
              "    <tr>\n",
              "      <th>56995</th>\n",
              "      <td>Kyr1swAjeR37xIsuF5FDUbp7QtkHWpbNByLa/Smk4It3Jv...</td>\n",
              "      <td>GEn8zsO7m+zvxgj7NUqs9HBwHFOfpA+YY1sbpRq+r5X12f...</td>\n",
              "      <td>2020-01-28 00:57:59+00:00</td>\n",
              "      <td>qmY+fo95UnBw5KEdLm+TUDGqv9YHywZCrCDPqFHXNMmO3y...</td>\n",
              "      <td>LENCANA MERAH Tepung Terigu 1kg</td>\n",
              "      <td>Agriculture &amp; Food</td>\n",
              "      <td>20000.0</td>\n",
              "      <td>11</td>\n",
              "      <td>3.0</td>\n",
              "      <td>Ralali Wallet</td>\n",
              "      <td>...</td>\n",
              "      <td>2020-01-28 01:21:04+00:00</td>\n",
              "      <td>2020-02-11 00:38:55+00:00</td>\n",
              "      <td>2020-02-12 06:22:14+00:00</td>\n",
              "      <td>yY7Y1kBC0st9xepDZscxyihC+92wnAgt7Su6zegHLKgmRs...</td>\n",
              "      <td>zur/s7B3E92bxS8FkBL9Dx6HA7lKKWGGzSq1qu4HPScnu9...</td>\n",
              "      <td>Android</td>\n",
              "      <td>Riau</td>\n",
              "      <td>Pekanbaru</td>\n",
              "      <td>Free Ongkir Lokal</td>\n",
              "      <td>15 days 05:24:15</td>\n",
              "    </tr>\n",
              "    <tr>\n",
              "      <th>56996</th>\n",
              "      <td>vUVI5D2/Fkw+uJCP/prvGKQR7pS6ysgu+YBpy7XKD0LDfI...</td>\n",
              "      <td>wgTA6Nj4X0Sg+468a/zs6g41zZhMOzhScQA4z9kkRSJ8Mt...</td>\n",
              "      <td>2020-01-28 00:51:48+00:00</td>\n",
              "      <td>qmY+fo95UnBw5KEdLm+TUDGqv9YHywZCrCDPqFHXNMmO3y...</td>\n",
              "      <td>LENCANA MERAH Tepung Terigu 1kg</td>\n",
              "      <td>Agriculture &amp; Food</td>\n",
              "      <td>20000.0</td>\n",
              "      <td>11</td>\n",
              "      <td>3.0</td>\n",
              "      <td>Ralali Wallet</td>\n",
              "      <td>...</td>\n",
              "      <td>2020-01-28 01:21:13+00:00</td>\n",
              "      <td>2020-02-11 00:37:00+00:00</td>\n",
              "      <td>2020-02-12 06:22:14+00:00</td>\n",
              "      <td>ng21FCXnAWPBVkw3e+YokohKEiKwUeMP72oa+NK03SZkpO...</td>\n",
              "      <td>zur/s7B3E92bxS8FkBL9Dx6HA7lKKWGGzSq1qu4HPScnu9...</td>\n",
              "      <td>Android</td>\n",
              "      <td>Riau</td>\n",
              "      <td>Pekanbaru</td>\n",
              "      <td>Free Ongkir Lokal</td>\n",
              "      <td>15 days 05:30:26</td>\n",
              "    </tr>\n",
              "    <tr>\n",
              "      <th>56997</th>\n",
              "      <td>9l6zCubPWS1YrZp00WRBFOxRqWaqOid00L+C28qt8PhjEj...</td>\n",
              "      <td>r3AHlSaQGMTk5zYJsU95OiO4BpjpQqupMgsDqux6QOULFU...</td>\n",
              "      <td>2020-03-19 21:44:49+00:00</td>\n",
              "      <td>e8ZS0UrAzdLUpfXhh33Xx3UUWULCWDHNWMe0h04Qi6SBzT...</td>\n",
              "      <td>DJI SAM SOE 234 Magnum Mild Blue 16s</td>\n",
              "      <td>Agriculture &amp; Food</td>\n",
              "      <td>29000.0</td>\n",
              "      <td>11</td>\n",
              "      <td>3.0</td>\n",
              "      <td>Ralali Wallet</td>\n",
              "      <td>...</td>\n",
              "      <td>2020-03-19 22:06:53+00:00</td>\n",
              "      <td>2020-03-19 22:07:14+00:00</td>\n",
              "      <td>2020-03-20 15:17:44+00:00</td>\n",
              "      <td>t+v4QgAgyKqZXSdxZgvhav7+7rtoGQHNRc5NXw4WYklfLA...</td>\n",
              "      <td>zur/s7B3E92bxS8FkBL9Dx6HA7lKKWGGzSq1qu4HPScnu9...</td>\n",
              "      <td>Android</td>\n",
              "      <td>Kepulauan Riau</td>\n",
              "      <td>Pekanbaru</td>\n",
              "      <td>Free Ongkir Lokal</td>\n",
              "      <td>0 days 17:32:55</td>\n",
              "    </tr>\n",
              "    <tr>\n",
              "      <th>56998</th>\n",
              "      <td>0b8ttj22Y4JOZSMxrgXb0E4pd5MD7e+Pmy8Zk5rrK5NssN...</td>\n",
              "      <td>K0G2ddYGBXc+y80wtiUDrEvnKsYgwjntEVvmtOvFCzwYkN...</td>\n",
              "      <td>2020-01-02 14:18:46+00:00</td>\n",
              "      <td>Y4yb++f39blRbkJpr0fnt0U4nguBFWqMTXhcNAH73+PqJe...</td>\n",
              "      <td>POPSO Bakso  Cup</td>\n",
              "      <td>Agriculture &amp; Food</td>\n",
              "      <td>32000.0</td>\n",
              "      <td>25</td>\n",
              "      <td>2.5</td>\n",
              "      <td>Credit Card</td>\n",
              "      <td>...</td>\n",
              "      <td>NaT</td>\n",
              "      <td>NaT</td>\n",
              "      <td>NaT</td>\n",
              "      <td>vBQDuU8e5XvuPIXHvD7m4dOdZjSCdIBzWhYjRLeVYkahUN...</td>\n",
              "      <td>zx1OMM/JHQ1SNnRi9hsIvVkI1E03RE6dcgWrx9yKbVOCGR...</td>\n",
              "      <td>website</td>\n",
              "      <td>Banten</td>\n",
              "      <td>Tangerang Selatan</td>\n",
              "      <td>Ralali Kargo</td>\n",
              "      <td>NaT</td>\n",
              "    </tr>\n",
              "  </tbody>\n",
              "</table>\n",
              "<p>56999 rows × 22 columns</p>\n",
              "</div>\n",
              "      <button class=\"colab-df-convert\" onclick=\"convertToInteractive('df-4cd9f665-3b8f-4f6d-ad57-7b72a81aa1d3')\"\n",
              "              title=\"Convert this dataframe to an interactive table.\"\n",
              "              style=\"display:none;\">\n",
              "        \n",
              "  <svg xmlns=\"http://www.w3.org/2000/svg\" height=\"24px\"viewBox=\"0 0 24 24\"\n",
              "       width=\"24px\">\n",
              "    <path d=\"M0 0h24v24H0V0z\" fill=\"none\"/>\n",
              "    <path d=\"M18.56 5.44l.94 2.06.94-2.06 2.06-.94-2.06-.94-.94-2.06-.94 2.06-2.06.94zm-11 1L8.5 8.5l.94-2.06 2.06-.94-2.06-.94L8.5 2.5l-.94 2.06-2.06.94zm10 10l.94 2.06.94-2.06 2.06-.94-2.06-.94-.94-2.06-.94 2.06-2.06.94z\"/><path d=\"M17.41 7.96l-1.37-1.37c-.4-.4-.92-.59-1.43-.59-.52 0-1.04.2-1.43.59L10.3 9.45l-7.72 7.72c-.78.78-.78 2.05 0 2.83L4 21.41c.39.39.9.59 1.41.59.51 0 1.02-.2 1.41-.59l7.78-7.78 2.81-2.81c.8-.78.8-2.07 0-2.86zM5.41 20L4 18.59l7.72-7.72 1.47 1.35L5.41 20z\"/>\n",
              "  </svg>\n",
              "      </button>\n",
              "      \n",
              "  <style>\n",
              "    .colab-df-container {\n",
              "      display:flex;\n",
              "      flex-wrap:wrap;\n",
              "      gap: 12px;\n",
              "    }\n",
              "\n",
              "    .colab-df-convert {\n",
              "      background-color: #E8F0FE;\n",
              "      border: none;\n",
              "      border-radius: 50%;\n",
              "      cursor: pointer;\n",
              "      display: none;\n",
              "      fill: #1967D2;\n",
              "      height: 32px;\n",
              "      padding: 0 0 0 0;\n",
              "      width: 32px;\n",
              "    }\n",
              "\n",
              "    .colab-df-convert:hover {\n",
              "      background-color: #E2EBFA;\n",
              "      box-shadow: 0px 1px 2px rgba(60, 64, 67, 0.3), 0px 1px 3px 1px rgba(60, 64, 67, 0.15);\n",
              "      fill: #174EA6;\n",
              "    }\n",
              "\n",
              "    [theme=dark] .colab-df-convert {\n",
              "      background-color: #3B4455;\n",
              "      fill: #D2E3FC;\n",
              "    }\n",
              "\n",
              "    [theme=dark] .colab-df-convert:hover {\n",
              "      background-color: #434B5C;\n",
              "      box-shadow: 0px 1px 3px 1px rgba(0, 0, 0, 0.15);\n",
              "      filter: drop-shadow(0px 1px 2px rgba(0, 0, 0, 0.3));\n",
              "      fill: #FFFFFF;\n",
              "    }\n",
              "  </style>\n",
              "\n",
              "      <script>\n",
              "        const buttonEl =\n",
              "          document.querySelector('#df-4cd9f665-3b8f-4f6d-ad57-7b72a81aa1d3 button.colab-df-convert');\n",
              "        buttonEl.style.display =\n",
              "          google.colab.kernel.accessAllowed ? 'block' : 'none';\n",
              "\n",
              "        async function convertToInteractive(key) {\n",
              "          const element = document.querySelector('#df-4cd9f665-3b8f-4f6d-ad57-7b72a81aa1d3');\n",
              "          const dataTable =\n",
              "            await google.colab.kernel.invokeFunction('convertToInteractive',\n",
              "                                                     [key], {});\n",
              "          if (!dataTable) return;\n",
              "\n",
              "          const docLinkHtml = 'Like what you see? Visit the ' +\n",
              "            '<a target=\"_blank\" href=https://colab.research.google.com/notebooks/data_table.ipynb>data table notebook</a>'\n",
              "            + ' to learn more about interactive tables.';\n",
              "          element.innerHTML = '';\n",
              "          dataTable['output_type'] = 'display_data';\n",
              "          await google.colab.output.renderOutput(dataTable, element);\n",
              "          const docLink = document.createElement('div');\n",
              "          docLink.innerHTML = docLinkHtml;\n",
              "          element.appendChild(docLink);\n",
              "        }\n",
              "      </script>\n",
              "    </div>\n",
              "  </div>\n",
              "  "
            ]
          },
          "metadata": {},
          "execution_count": 26
        }
      ]
    },
    {
      "cell_type": "code",
      "source": [
        "X1.info()"
      ],
      "metadata": {
        "colab": {
          "base_uri": "https://localhost:8080/"
        },
        "id": "EwUijUAuxsv-",
        "outputId": "19e39a17-fe8a-41b4-f05a-376f339d7d5d"
      },
      "execution_count": null,
      "outputs": [
        {
          "output_type": "stream",
          "name": "stdout",
          "text": [
            "<class 'pandas.core.frame.DataFrame'>\n",
            "RangeIndex: 56999 entries, 0 to 56998\n",
            "Data columns (total 22 columns):\n",
            " #   Column                 Non-Null Count  Dtype              \n",
            "---  ------                 --------------  -----              \n",
            " 0   order_id               56999 non-null  object             \n",
            " 1   oder_detail_id         56999 non-null  object             \n",
            " 2   order_datetime         56999 non-null  datetime64[ns, UTC]\n",
            " 3   item_id                56999 non-null  object             \n",
            " 4   item_name              56999 non-null  object             \n",
            " 5   cat_name               56999 non-null  object             \n",
            " 6   price                  56999 non-null  float64            \n",
            " 7   product_quantity       56999 non-null  Int64              \n",
            " 8   percentage_commission  56999 non-null  float64            \n",
            " 9   payment_method         56999 non-null  object             \n",
            " 10  payment_datetime       56999 non-null  datetime64[ns, UTC]\n",
            " 11  processed_datetime     53325 non-null  datetime64[ns, UTC]\n",
            " 12  delivered_datetime     52995 non-null  datetime64[ns, UTC]\n",
            " 13  received_datetime      53287 non-null  datetime64[ns, UTC]\n",
            " 14  settled_datetime       53079 non-null  datetime64[ns, UTC]\n",
            " 15  buyer_id               56999 non-null  object             \n",
            " 16  seller_id              56999 non-null  object             \n",
            " 17  order_source           56999 non-null  object             \n",
            " 18  buyer_province_name    56999 non-null  object             \n",
            " 19  buyer_city_name        56999 non-null  object             \n",
            " 20  logistic_name          56999 non-null  object             \n",
            " 21  Duration               53079 non-null  timedelta64[ns]    \n",
            "dtypes: Int64(1), datetime64[ns, UTC](6), float64(2), object(12), timedelta64[ns](1)\n",
            "memory usage: 9.6+ MB\n"
          ]
        }
      ]
    },
    {
      "cell_type": "code",
      "source": [
        "X1.isna().sum()"
      ],
      "metadata": {
        "colab": {
          "base_uri": "https://localhost:8080/"
        },
        "id": "WAn8nv_Mxw37",
        "outputId": "e19377d9-1154-4692-a3fe-f01c5f0f0bd8"
      },
      "execution_count": null,
      "outputs": [
        {
          "output_type": "execute_result",
          "data": {
            "text/plain": [
              "order_id                    0\n",
              "oder_detail_id              0\n",
              "order_datetime              0\n",
              "item_id                     0\n",
              "item_name                   0\n",
              "cat_name                    0\n",
              "price                       0\n",
              "product_quantity            0\n",
              "percentage_commission       0\n",
              "payment_method              0\n",
              "payment_datetime            0\n",
              "processed_datetime       3674\n",
              "delivered_datetime       4004\n",
              "received_datetime        3712\n",
              "settled_datetime         3920\n",
              "buyer_id                    0\n",
              "seller_id                   0\n",
              "order_source                0\n",
              "buyer_province_name         0\n",
              "buyer_city_name             0\n",
              "logistic_name               0\n",
              "Duration                 3920\n",
              "dtype: int64"
            ]
          },
          "metadata": {},
          "execution_count": 27
        }
      ]
    },
    {
      "cell_type": "code",
      "source": [
        "X1['Duration']= X1['settled_datetime']-X1['order_datetime']"
      ],
      "metadata": {
        "colab": {
          "base_uri": "https://localhost:8080/"
        },
        "id": "evyx1yXz3go4",
        "outputId": "2e2c55cc-5ee2-426a-cbb6-5a1495a8d60d"
      },
      "execution_count": null,
      "outputs": [
        {
          "output_type": "execute_result",
          "data": {
            "text/plain": [
              "<bound method NDFrame._add_numeric_operations.<locals>.mean of 0        5 days 05:09:06\n",
              "1        7 days 05:31:35\n",
              "2        5 days 22:07:28\n",
              "3        9 days 20:48:45\n",
              "4        5 days 00:44:32\n",
              "              ...       \n",
              "56994    1 days 11:05:11\n",
              "56995   15 days 05:24:15\n",
              "56996   15 days 05:30:26\n",
              "56997    0 days 17:32:55\n",
              "56998                NaT\n",
              "Name: Duration, Length: 56999, dtype: timedelta64[ns]>"
            ]
          },
          "metadata": {},
          "execution_count": 25
        }
      ]
    },
    {
      "cell_type": "markdown",
      "source": [
        "#Missing Data"
      ],
      "metadata": {
        "id": "HQugknja8FC8"
      }
    },
    {
      "cell_type": "code",
      "source": [
        "ModeCity1 = X1['buyer_province_name'].mode()[0]\n",
        "X1['buyer_province_name'].fillna(ModeCity1,inplace= True)"
      ],
      "metadata": {
        "id": "UAk8rES-yUVy"
      },
      "execution_count": null,
      "outputs": []
    },
    {
      "cell_type": "code",
      "source": [
        "ModeCity2 = X1['buyer_city_name'].mode()[0]\n",
        "X1['buyer_city_name'].fillna(ModeCity2,inplace= True)"
      ],
      "metadata": {
        "id": "RQPfTJowzE-w"
      },
      "execution_count": null,
      "outputs": []
    },
    {
      "cell_type": "markdown",
      "source": [
        "#Handling Outlier & Data Transform"
      ],
      "metadata": {
        "id": "Y5If4U0c8Ixh"
      }
    },
    {
      "cell_type": "code",
      "source": [
        "boxplot_price = sns.boxplot(data = X1, x = \"price\")\n",
        "plt.show()"
      ],
      "metadata": {
        "colab": {
          "base_uri": "https://localhost:8080/",
          "height": 279
        },
        "id": "T6bA5giKz1lX",
        "outputId": "f29765b1-8bee-4338-a829-e3a1b2f85449"
      },
      "execution_count": null,
      "outputs": [
        {
          "output_type": "display_data",
          "data": {
            "text/plain": [
              "<Figure size 432x288 with 1 Axes>"
            ],
            "image/png": "[encoded data removed]"
          },
          "metadata": {
            "needs_background": "light"
          }
        }
      ]
    },
    {
      "cell_type": "code",
      "source": [
        "X1['Log_price'] = [np.log(x) for x in X1['price']]"
      ],
      "metadata": {
        "id": "M4vBoXSk7cwM"
      },
      "execution_count": null,
      "outputs": []
    },
    {
      "cell_type": "code",
      "source": [
        "boxplot_logprice = sns.boxplot(data = X1, x = \"Log_price\")\n",
        "plt.show()"
      ],
      "metadata": {
        "colab": {
          "base_uri": "https://localhost:8080/",
          "height": 280
        },
        "id": "tSep33CO7uWW",
        "outputId": "b94bb45d-be87-4992-fb81-d1900416d9dd"
      },
      "execution_count": null,
      "outputs": [
        {
          "output_type": "display_data",
          "data": {
            "text/plain": [
              "<Figure size 432x288 with 1 Axes>"
            ],
            "image/png": "[encoded data removed]"
          },
          "metadata": {
            "needs_background": "light"
          }
        }
      ]
    },
    {
      "cell_type": "code",
      "source": [
        "boxplot_product_quantity = sns.boxplot(data = X1, x = \"product_quantity\")\n",
        "plt.show()"
      ],
      "metadata": {
        "colab": {
          "base_uri": "https://localhost:8080/",
          "height": 280
        },
        "id": "sEAmqd4m8yV9",
        "outputId": "43887b13-4ea1-4bc1-8f33-b9e8e7c8f8f5"
      },
      "execution_count": null,
      "outputs": [
        {
          "output_type": "display_data",
          "data": {
            "text/plain": [
              "<Figure size 432x288 with 1 Axes>"
            ],
            "image/png": "[encoded data removed]"
          },
          "metadata": {
            "needs_background": "light"
          }
        }
      ]
    },
    {
      "cell_type": "code",
      "source": [
        "X1['Log_product_quantity'] = [np.log(x) for x in X1['product_quantity']]"
      ],
      "metadata": {
        "id": "LYViF5-B8p-H"
      },
      "execution_count": null,
      "outputs": []
    },
    {
      "cell_type": "code",
      "source": [
        "boxplot_logproduct_quantity = sns.boxplot(data = X1, x = \"Log_product_quantity\")\n",
        "plt.show()"
      ],
      "metadata": {
        "colab": {
          "base_uri": "https://localhost:8080/",
          "height": 280
        },
        "id": "oQeTI6W088If",
        "outputId": "3b67fc72-7da8-4ff5-b037-890dcd434cb4"
      },
      "execution_count": null,
      "outputs": [
        {
          "output_type": "display_data",
          "data": {
            "text/plain": [
              "<Figure size 432x288 with 1 Axes>"
            ],
            "image/png": "[encoded data removed]"
          },
          "metadata": {
            "needs_background": "light"
          }
        }
      ]
    },
    {
      "cell_type": "code",
      "source": [
        "boxplot_percentage_commission = sns.boxplot(data = X1, x = \"percentage_commission\")\n",
        "plt.show()"
      ],
      "metadata": {
        "colab": {
          "base_uri": "https://localhost:8080/",
          "height": 280
        },
        "id": "2Aim45xZ_bga",
        "outputId": "f591a7a7-2dae-48cd-fd66-f5bb7f9d6b79"
      },
      "execution_count": null,
      "outputs": [
        {
          "output_type": "display_data",
          "data": {
            "text/plain": [
              "<Figure size 432x288 with 1 Axes>"
            ],
            "image/png": "[encoded data removed]"
          },
          "metadata": {
            "needs_background": "light"
          }
        }
      ]
    },
    {
      "cell_type": "code",
      "source": [
        "X1['Log_percentage_commission'] = [np.log(x) for x in X1['percentage_commission']]"
      ],
      "metadata": {
        "colab": {
          "base_uri": "https://localhost:8080/"
        },
        "id": "Hj27qS88_pPX",
        "outputId": "1c81c6a1-915d-492c-b831-0f5274603b8c"
      },
      "execution_count": null,
      "outputs": [
        {
          "output_type": "stream",
          "name": "stderr",
          "text": [
            "<ipython-input-37-79d0492cabae>:1: RuntimeWarning: divide by zero encountered in log\n",
            "  X1['Log_percentage_commission'] = [np.log(x) for x in X1['percentage_commission']]\n"
          ]
        }
      ]
    },
    {
      "cell_type": "code",
      "source": [
        "boxplot_Log_percentage_commission = sns.boxplot(data = X1, x = \"Log_percentage_commission\")\n",
        "plt.show()"
      ],
      "metadata": {
        "colab": {
          "base_uri": "https://localhost:8080/",
          "height": 280
        },
        "id": "G7dQacvR_x83",
        "outputId": "bb05a31d-c763-43fd-91be-e836126457d5"
      },
      "execution_count": null,
      "outputs": [
        {
          "output_type": "display_data",
          "data": {
            "text/plain": [
              "<Figure size 432x288 with 1 Axes>"
            ],
            "image/png": "[encoded data removed]"
          },
          "metadata": {
            "needs_background": "light"
          }
        }
      ]
    },
    {
      "cell_type": "markdown",
      "source": [
        "#EDA"
      ],
      "metadata": {
        "id": "JQGI83aJ_YWb"
      }
    },
    {
      "cell_type": "code",
      "source": [
        "pd.crosstab(X1['buyer_province_name'], X1['logistic_name']).plot.bar(stacked = True)\n",
        "plt.show()"
      ],
      "metadata": {
        "colab": {
          "base_uri": "https://localhost:8080/",
          "height": 441
        },
        "id": "p_A7UOs_XAYC",
        "outputId": "b1e79945-c4ec-48a4-99f6-0326d5ab8edc"
      },
      "execution_count": null,
      "outputs": [
        {
          "output_type": "display_data",
          "data": {
            "text/plain": [
              "<Figure size 432x288 with 1 Axes>"
            ],
            "image/png": "[encoded data removed]"
          },
          "metadata": {
            "needs_background": "light"
          }
        }
      ]
    },
    {
      "cell_type": "code",
      "source": [
        "pd.crosstab(X1['buyer_province_name'], X1['order_source']).plot.bar(stacked = True)\n",
        "plt.show()"
      ],
      "metadata": {
        "colab": {
          "base_uri": "https://localhost:8080/",
          "height": 439
        },
        "id": "WK-ZMtIa_8HG",
        "outputId": "23cc8506-b0ed-4c00-eea4-38999e629d0b"
      },
      "execution_count": null,
      "outputs": [
        {
          "output_type": "display_data",
          "data": {
            "text/plain": [
              "<Figure size 432x288 with 1 Axes>"
            ],
            "image/png": "[encoded data removed]"
          },
          "metadata": {
            "needs_background": "light"
          }
        }
      ]
    },
    {
      "cell_type": "code",
      "source": [
        "pd.crosstab(X1['buyer_province_name'], X1['payment_method']).plot.bar(stacked = True)\n",
        "plt.show()"
      ],
      "metadata": {
        "colab": {
          "base_uri": "https://localhost:8080/",
          "height": 531
        },
        "id": "W_yuUgrtAFe8",
        "outputId": "5a8a4595-e35e-403f-c3fd-9d034bd8d14c"
      },
      "execution_count": null,
      "outputs": [
        {
          "output_type": "display_data",
          "data": {
            "text/plain": [
              "<Figure size 432x288 with 1 Axes>"
            ],
            "image/png": "[encoded data removed]"
          },
          "metadata": {
            "needs_background": "light"
          }
        }
      ]
    }
  ]
}